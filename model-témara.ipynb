{
 "cells": [
  {
   "cell_type": "code",
   "execution_count": 19,
   "id": "dcf2dd77",
   "metadata": {},
   "outputs": [],
   "source": [
    "import pandas as pd\n",
    "import numpy as np\n",
    "import matplotlib.pyplot as plt\n",
    "import seaborn as sns\n",
    "from sklearn.tree import DecisionTreeRegressor\n",
    "from sklearn.metrics import mean_squared_error, mean_absolute_error\n",
    "from sklearn.ensemble import RandomForestRegressor\n",
    "import pickle"
   ]
  },
  {
   "cell_type": "code",
   "execution_count": 26,
   "id": "2e33b5e1",
   "metadata": {},
   "outputs": [
    {
     "name": "stdout",
     "output_type": "stream",
     "text": [
      "<class 'pandas.core.frame.DataFrame'>\n",
      "RangeIndex: 4 entries, 0 to 3\n",
      "Data columns (total 6 columns):\n",
      " #   Column                     Non-Null Count  Dtype  \n",
      "---  ------                     --------------  -----  \n",
      " 0   temps                      4 non-null      object \n",
      " 1   T_Air_C_Avg                4 non-null      float64\n",
      " 2   RH_Avg\t                    4 non-null      float64\n",
      " 3   V_Vent_m_s_Avg             4 non-null      float64\n",
      " 4   Ray_Tot_KWh_m2_Tot cumulé  4 non-null      float64\n",
      " 5   Perte_réflectance          4 non-null      float64\n",
      "dtypes: float64(5), object(1)\n",
      "memory usage: 320.0+ bytes\n"
     ]
    }
   ],
   "source": [
    "df=pd.read_excel(\"DATA-TEMARA.xlsx\")\n",
    "df.info()"
   ]
  },
  {
   "cell_type": "code",
   "execution_count": 27,
   "id": "a3783af8",
   "metadata": {},
   "outputs": [
    {
     "data": {
      "text/html": [
       "<div>\n",
       "<style scoped>\n",
       "    .dataframe tbody tr th:only-of-type {\n",
       "        vertical-align: middle;\n",
       "    }\n",
       "\n",
       "    .dataframe tbody tr th {\n",
       "        vertical-align: top;\n",
       "    }\n",
       "\n",
       "    .dataframe thead th {\n",
       "        text-align: right;\n",
       "    }\n",
       "</style>\n",
       "<table border=\"1\" class=\"dataframe\">\n",
       "  <thead>\n",
       "    <tr style=\"text-align: right;\">\n",
       "      <th></th>\n",
       "      <th>temps</th>\n",
       "      <th>T_Air_C_Avg</th>\n",
       "      <th>RH_Avg\\t</th>\n",
       "      <th>V_Vent_m_s_Avg</th>\n",
       "      <th>Ray_Tot_KWh_m2_Tot cumulé</th>\n",
       "      <th>Perte_réflectance</th>\n",
       "    </tr>\n",
       "  </thead>\n",
       "  <tbody>\n",
       "    <tr>\n",
       "      <th>0</th>\n",
       "      <td>T1</td>\n",
       "      <td>16.557253</td>\n",
       "      <td>81.155198</td>\n",
       "      <td>2.376314</td>\n",
       "      <td>791.690513</td>\n",
       "      <td>0.27</td>\n",
       "    </tr>\n",
       "    <tr>\n",
       "      <th>1</th>\n",
       "      <td>T2</td>\n",
       "      <td>19.803349</td>\n",
       "      <td>83.536651</td>\n",
       "      <td>1.813995</td>\n",
       "      <td>508.389976</td>\n",
       "      <td>0.54</td>\n",
       "    </tr>\n",
       "    <tr>\n",
       "      <th>2</th>\n",
       "      <td>T3</td>\n",
       "      <td>14.407118</td>\n",
       "      <td>78.435152</td>\n",
       "      <td>2.376743</td>\n",
       "      <td>483.220425</td>\n",
       "      <td>0.67</td>\n",
       "    </tr>\n",
       "    <tr>\n",
       "      <th>3</th>\n",
       "      <td>T4</td>\n",
       "      <td>17.306905</td>\n",
       "      <td>79.941144</td>\n",
       "      <td>2.539811</td>\n",
       "      <td>195.059701</td>\n",
       "      <td>0.17</td>\n",
       "    </tr>\n",
       "  </tbody>\n",
       "</table>\n",
       "</div>"
      ],
      "text/plain": [
       "  temps  T_Air_C_Avg   RH_Avg\\t  V_Vent_m_s_Avg  Ray_Tot_KWh_m2_Tot cumulé  \\\n",
       "0    T1    16.557253  81.155198        2.376314                 791.690513   \n",
       "1    T2    19.803349  83.536651        1.813995                 508.389976   \n",
       "2    T3    14.407118  78.435152        2.376743                 483.220425   \n",
       "3    T4    17.306905  79.941144        2.539811                 195.059701   \n",
       "\n",
       "   Perte_réflectance  \n",
       "0               0.27  \n",
       "1               0.54  \n",
       "2               0.67  \n",
       "3               0.17  "
      ]
     },
     "execution_count": 27,
     "metadata": {},
     "output_type": "execute_result"
    }
   ],
   "source": [
    "df.head(4)"
   ]
  },
  {
   "cell_type": "code",
   "execution_count": 31,
   "id": "e3204632",
   "metadata": {},
   "outputs": [
    {
     "data": {
      "text/html": [
       "<div>\n",
       "<style scoped>\n",
       "    .dataframe tbody tr th:only-of-type {\n",
       "        vertical-align: middle;\n",
       "    }\n",
       "\n",
       "    .dataframe tbody tr th {\n",
       "        vertical-align: top;\n",
       "    }\n",
       "\n",
       "    .dataframe thead th {\n",
       "        text-align: right;\n",
       "    }\n",
       "</style>\n",
       "<table border=\"1\" class=\"dataframe\">\n",
       "  <thead>\n",
       "    <tr style=\"text-align: right;\">\n",
       "      <th></th>\n",
       "      <th>temps</th>\n",
       "      <th>T_Air_C_Avg</th>\n",
       "      <th>RH_Avg</th>\n",
       "      <th>V_Vent_m_s_Avg</th>\n",
       "      <th>Ray_Tot_KWh_m2_Tot cumulé</th>\n",
       "      <th>Perte_réflectance</th>\n",
       "    </tr>\n",
       "  </thead>\n",
       "  <tbody>\n",
       "    <tr>\n",
       "      <th>0</th>\n",
       "      <td>T1</td>\n",
       "      <td>16.557253</td>\n",
       "      <td>81.155198</td>\n",
       "      <td>2.376314</td>\n",
       "      <td>791.690513</td>\n",
       "      <td>0.27</td>\n",
       "    </tr>\n",
       "    <tr>\n",
       "      <th>1</th>\n",
       "      <td>T2</td>\n",
       "      <td>19.803349</td>\n",
       "      <td>83.536651</td>\n",
       "      <td>1.813995</td>\n",
       "      <td>508.389976</td>\n",
       "      <td>0.54</td>\n",
       "    </tr>\n",
       "    <tr>\n",
       "      <th>2</th>\n",
       "      <td>T3</td>\n",
       "      <td>14.407118</td>\n",
       "      <td>78.435152</td>\n",
       "      <td>2.376743</td>\n",
       "      <td>483.220425</td>\n",
       "      <td>0.67</td>\n",
       "    </tr>\n",
       "    <tr>\n",
       "      <th>3</th>\n",
       "      <td>T4</td>\n",
       "      <td>17.306905</td>\n",
       "      <td>79.941144</td>\n",
       "      <td>2.539811</td>\n",
       "      <td>195.059701</td>\n",
       "      <td>0.17</td>\n",
       "    </tr>\n",
       "  </tbody>\n",
       "</table>\n",
       "</div>"
      ],
      "text/plain": [
       "  temps  T_Air_C_Avg     RH_Avg  V_Vent_m_s_Avg  Ray_Tot_KWh_m2_Tot cumulé  \\\n",
       "0    T1    16.557253  81.155198        2.376314                 791.690513   \n",
       "1    T2    19.803349  83.536651        1.813995                 508.389976   \n",
       "2    T3    14.407118  78.435152        2.376743                 483.220425   \n",
       "3    T4    17.306905  79.941144        2.539811                 195.059701   \n",
       "\n",
       "   Perte_réflectance  \n",
       "0               0.27  \n",
       "1               0.54  \n",
       "2               0.67  \n",
       "3               0.17  "
      ]
     },
     "execution_count": 31,
     "metadata": {},
     "output_type": "execute_result"
    }
   ],
   "source": [
    "df.columns = [\"temps\",\"T_Air_C_Avg\", \"RH_Avg\",\"V_Vent_m_s_Avg\", \"Ray_Tot_KWh_m2_Tot cumulé\", \"Perte_réflectance\"]\n",
    "df.head()"
   ]
  },
  {
   "cell_type": "code",
   "execution_count": 32,
   "id": "1e13f640",
   "metadata": {},
   "outputs": [
    {
     "data": {
      "text/html": [
       "<div>\n",
       "<style scoped>\n",
       "    .dataframe tbody tr th:only-of-type {\n",
       "        vertical-align: middle;\n",
       "    }\n",
       "\n",
       "    .dataframe tbody tr th {\n",
       "        vertical-align: top;\n",
       "    }\n",
       "\n",
       "    .dataframe thead th {\n",
       "        text-align: right;\n",
       "    }\n",
       "</style>\n",
       "<table border=\"1\" class=\"dataframe\">\n",
       "  <thead>\n",
       "    <tr style=\"text-align: right;\">\n",
       "      <th></th>\n",
       "      <th>T_Air_C_Avg</th>\n",
       "      <th>RH_Avg</th>\n",
       "      <th>V_Vent_m_s_Avg</th>\n",
       "      <th>Ray_Tot_KWh_m2_Tot cumulé</th>\n",
       "      <th>Perte_réflectance</th>\n",
       "    </tr>\n",
       "  </thead>\n",
       "  <tbody>\n",
       "    <tr>\n",
       "      <th>0</th>\n",
       "      <td>16.557253</td>\n",
       "      <td>81.155198</td>\n",
       "      <td>2.376314</td>\n",
       "      <td>791.690513</td>\n",
       "      <td>0.27</td>\n",
       "    </tr>\n",
       "    <tr>\n",
       "      <th>1</th>\n",
       "      <td>19.803349</td>\n",
       "      <td>83.536651</td>\n",
       "      <td>1.813995</td>\n",
       "      <td>508.389976</td>\n",
       "      <td>0.54</td>\n",
       "    </tr>\n",
       "    <tr>\n",
       "      <th>2</th>\n",
       "      <td>14.407118</td>\n",
       "      <td>78.435152</td>\n",
       "      <td>2.376743</td>\n",
       "      <td>483.220425</td>\n",
       "      <td>0.67</td>\n",
       "    </tr>\n",
       "    <tr>\n",
       "      <th>3</th>\n",
       "      <td>17.306905</td>\n",
       "      <td>79.941144</td>\n",
       "      <td>2.539811</td>\n",
       "      <td>195.059701</td>\n",
       "      <td>0.17</td>\n",
       "    </tr>\n",
       "  </tbody>\n",
       "</table>\n",
       "</div>"
      ],
      "text/plain": [
       "   T_Air_C_Avg     RH_Avg  V_Vent_m_s_Avg  Ray_Tot_KWh_m2_Tot cumulé  \\\n",
       "0    16.557253  81.155198        2.376314                 791.690513   \n",
       "1    19.803349  83.536651        1.813995                 508.389976   \n",
       "2    14.407118  78.435152        2.376743                 483.220425   \n",
       "3    17.306905  79.941144        2.539811                 195.059701   \n",
       "\n",
       "   Perte_réflectance  \n",
       "0               0.27  \n",
       "1               0.54  \n",
       "2               0.67  \n",
       "3               0.17  "
      ]
     },
     "execution_count": 32,
     "metadata": {},
     "output_type": "execute_result"
    }
   ],
   "source": [
    "df=df[[\"T_Air_C_Avg\", \"RH_Avg\",\"V_Vent_m_s_Avg\", \"Ray_Tot_KWh_m2_Tot cumulé\", \"Perte_réflectance\"]]\n",
    "df.head()"
   ]
  },
  {
   "cell_type": "code",
   "execution_count": 33,
   "id": "73c75dea",
   "metadata": {},
   "outputs": [
    {
     "data": {
      "text/html": [
       "<div>\n",
       "<style scoped>\n",
       "    .dataframe tbody tr th:only-of-type {\n",
       "        vertical-align: middle;\n",
       "    }\n",
       "\n",
       "    .dataframe tbody tr th {\n",
       "        vertical-align: top;\n",
       "    }\n",
       "\n",
       "    .dataframe thead th {\n",
       "        text-align: right;\n",
       "    }\n",
       "</style>\n",
       "<table border=\"1\" class=\"dataframe\">\n",
       "  <thead>\n",
       "    <tr style=\"text-align: right;\">\n",
       "      <th></th>\n",
       "      <th>count</th>\n",
       "      <th>mean</th>\n",
       "      <th>std</th>\n",
       "      <th>min</th>\n",
       "      <th>25%</th>\n",
       "      <th>50%</th>\n",
       "      <th>75%</th>\n",
       "      <th>max</th>\n",
       "    </tr>\n",
       "  </thead>\n",
       "  <tbody>\n",
       "    <tr>\n",
       "      <th>T_Air_C_Avg</th>\n",
       "      <td>4.0</td>\n",
       "      <td>17.018656</td>\n",
       "      <td>2.226404</td>\n",
       "      <td>14.407118</td>\n",
       "      <td>16.019720</td>\n",
       "      <td>16.932079</td>\n",
       "      <td>17.931016</td>\n",
       "      <td>19.803349</td>\n",
       "    </tr>\n",
       "    <tr>\n",
       "      <th>RH_Avg</th>\n",
       "      <td>4.0</td>\n",
       "      <td>80.767037</td>\n",
       "      <td>2.155707</td>\n",
       "      <td>78.435152</td>\n",
       "      <td>79.564646</td>\n",
       "      <td>80.548171</td>\n",
       "      <td>81.750562</td>\n",
       "      <td>83.536651</td>\n",
       "    </tr>\n",
       "    <tr>\n",
       "      <th>V_Vent_m_s_Avg</th>\n",
       "      <td>4.0</td>\n",
       "      <td>2.276716</td>\n",
       "      <td>0.317939</td>\n",
       "      <td>1.813995</td>\n",
       "      <td>2.235735</td>\n",
       "      <td>2.376529</td>\n",
       "      <td>2.417510</td>\n",
       "      <td>2.539811</td>\n",
       "    </tr>\n",
       "    <tr>\n",
       "      <th>Ray_Tot_KWh_m2_Tot cumulé</th>\n",
       "      <td>4.0</td>\n",
       "      <td>494.590154</td>\n",
       "      <td>243.794190</td>\n",
       "      <td>195.059701</td>\n",
       "      <td>411.180244</td>\n",
       "      <td>495.805200</td>\n",
       "      <td>579.215110</td>\n",
       "      <td>791.690513</td>\n",
       "    </tr>\n",
       "    <tr>\n",
       "      <th>Perte_réflectance</th>\n",
       "      <td>4.0</td>\n",
       "      <td>0.412500</td>\n",
       "      <td>0.232146</td>\n",
       "      <td>0.170000</td>\n",
       "      <td>0.245000</td>\n",
       "      <td>0.405000</td>\n",
       "      <td>0.572500</td>\n",
       "      <td>0.670000</td>\n",
       "    </tr>\n",
       "  </tbody>\n",
       "</table>\n",
       "</div>"
      ],
      "text/plain": [
       "                           count        mean         std         min  \\\n",
       "T_Air_C_Avg                  4.0   17.018656    2.226404   14.407118   \n",
       "RH_Avg                       4.0   80.767037    2.155707   78.435152   \n",
       "V_Vent_m_s_Avg               4.0    2.276716    0.317939    1.813995   \n",
       "Ray_Tot_KWh_m2_Tot cumulé    4.0  494.590154  243.794190  195.059701   \n",
       "Perte_réflectance            4.0    0.412500    0.232146    0.170000   \n",
       "\n",
       "                                  25%         50%         75%         max  \n",
       "T_Air_C_Avg                 16.019720   16.932079   17.931016   19.803349  \n",
       "RH_Avg                      79.564646   80.548171   81.750562   83.536651  \n",
       "V_Vent_m_s_Avg               2.235735    2.376529    2.417510    2.539811  \n",
       "Ray_Tot_KWh_m2_Tot cumulé  411.180244  495.805200  579.215110  791.690513  \n",
       "Perte_réflectance            0.245000    0.405000    0.572500    0.670000  "
      ]
     },
     "execution_count": 33,
     "metadata": {},
     "output_type": "execute_result"
    }
   ],
   "source": [
    "df.describe().transpose()\n"
   ]
  },
  {
   "cell_type": "code",
   "execution_count": 34,
   "id": "5df0a9ae",
   "metadata": {},
   "outputs": [
    {
     "data": {
      "image/png": "[encoded data removed]",
      "text/plain": [
       "<Figure size 360x360 with 1 Axes>"
      ]
     },
     "metadata": {
      "needs_background": "light"
     },
     "output_type": "display_data"
    },
    {
     "data": {
      "image/png": "[encoded data removed]",
      "text/plain": [
       "<Figure size 360x360 with 1 Axes>"
      ]
     },
     "metadata": {
      "needs_background": "light"
     },
     "output_type": "display_data"
    },
    {
     "data": {
      "image/png": "[encoded data removed]",
      "text/plain": [
       "<Figure size 360x360 with 1 Axes>"
      ]
     },
     "metadata": {
      "needs_background": "light"
     },
     "output_type": "display_data"
    },
    {
     "data": {
      "image/png": "[encoded data removed]",
      "text/plain": [
       "<Figure size 360x360 with 1 Axes>"
      ]
     },
     "metadata": {
      "needs_background": "light"
     },
     "output_type": "display_data"
    },
    {
     "data": {
      "image/png": "[encoded data removed]",
      "text/plain": [
       "<Figure size 360x360 with 1 Axes>"
      ]
     },
     "metadata": {
      "needs_background": "light"
     },
     "output_type": "display_data"
    }
   ],
   "source": [
    "for i in list(df.columns):\n",
    "    sns.lmplot(y=i, x='Perte_réflectance', data=df)"
   ]
  },
  {
   "cell_type": "code",
   "execution_count": 35,
   "id": "00de4ad0",
   "metadata": {},
   "outputs": [
    {
     "data": {
      "text/html": [
       "<div>\n",
       "<style scoped>\n",
       "    .dataframe tbody tr th:only-of-type {\n",
       "        vertical-align: middle;\n",
       "    }\n",
       "\n",
       "    .dataframe tbody tr th {\n",
       "        vertical-align: top;\n",
       "    }\n",
       "\n",
       "    .dataframe thead th {\n",
       "        text-align: right;\n",
       "    }\n",
       "</style>\n",
       "<table border=\"1\" class=\"dataframe\">\n",
       "  <thead>\n",
       "    <tr style=\"text-align: right;\">\n",
       "      <th></th>\n",
       "      <th>T_Air_C_Avg</th>\n",
       "      <th>RH_Avg</th>\n",
       "      <th>V_Vent_m_s_Avg</th>\n",
       "      <th>Ray_Tot_KWh_m2_Tot cumulé</th>\n",
       "    </tr>\n",
       "  </thead>\n",
       "  <tbody>\n",
       "    <tr>\n",
       "      <th>0</th>\n",
       "      <td>16.557253</td>\n",
       "      <td>81.155198</td>\n",
       "      <td>2.376314</td>\n",
       "      <td>791.690513</td>\n",
       "    </tr>\n",
       "    <tr>\n",
       "      <th>1</th>\n",
       "      <td>19.803349</td>\n",
       "      <td>83.536651</td>\n",
       "      <td>1.813995</td>\n",
       "      <td>508.389976</td>\n",
       "    </tr>\n",
       "    <tr>\n",
       "      <th>2</th>\n",
       "      <td>14.407118</td>\n",
       "      <td>78.435152</td>\n",
       "      <td>2.376743</td>\n",
       "      <td>483.220425</td>\n",
       "    </tr>\n",
       "    <tr>\n",
       "      <th>3</th>\n",
       "      <td>17.306905</td>\n",
       "      <td>79.941144</td>\n",
       "      <td>2.539811</td>\n",
       "      <td>195.059701</td>\n",
       "    </tr>\n",
       "  </tbody>\n",
       "</table>\n",
       "</div>"
      ],
      "text/plain": [
       "   T_Air_C_Avg     RH_Avg  V_Vent_m_s_Avg  Ray_Tot_KWh_m2_Tot cumulé\n",
       "0    16.557253  81.155198        2.376314                 791.690513\n",
       "1    19.803349  83.536651        1.813995                 508.389976\n",
       "2    14.407118  78.435152        2.376743                 483.220425\n",
       "3    17.306905  79.941144        2.539811                 195.059701"
      ]
     },
     "execution_count": 35,
     "metadata": {},
     "output_type": "execute_result"
    }
   ],
   "source": [
    "X= df.drop(\"Perte_réflectance\", axis=1)\n",
    "y = df[\"Perte_réflectance\"]\n",
    "X"
   ]
  },
  {
   "cell_type": "markdown",
   "id": "64665762",
   "metadata": {},
   "source": [
    "# Linear model "
   ]
  },
  {
   "cell_type": "code",
   "execution_count": 36,
   "id": "d6f77cb9",
   "metadata": {},
   "outputs": [
    {
     "data": {
      "text/plain": [
       "LinearRegression()"
      ]
     },
     "execution_count": 36,
     "metadata": {},
     "output_type": "execute_result"
    }
   ],
   "source": [
    "from sklearn.linear_model import LinearRegression\n",
    "linear_reg = LinearRegression()\n",
    "linear_reg.fit(X, y.values)"
   ]
  },
  {
   "cell_type": "code",
   "execution_count": 37,
   "id": "f18596f3",
   "metadata": {},
   "outputs": [],
   "source": [
    "y_predict=linear_reg.predict(X)"
   ]
  },
  {
   "cell_type": "code",
   "execution_count": 40,
   "id": "4dd0e0ce",
   "metadata": {},
   "outputs": [
    {
     "data": {
      "text/plain": [
       "9.63171463957453e-15"
      ]
     },
     "execution_count": 40,
     "metadata": {},
     "output_type": "execute_result"
    }
   ],
   "source": [
    "erreur  = np.sqrt(mean_squared_error(y, y_predict))\n",
    "erreur"
   ]
  },
  {
   "cell_type": "markdown",
   "id": "df6a7078",
   "metadata": {},
   "source": [
    "# model de Random Forest \n"
   ]
  },
  {
   "cell_type": "code",
   "execution_count": 50,
   "id": "7d99a779",
   "metadata": {},
   "outputs": [
    {
     "data": {
      "text/plain": [
       "RandomForestRegressor()"
      ]
     },
     "execution_count": 50,
     "metadata": {},
     "output_type": "execute_result"
    }
   ],
   "source": [
    "\n",
    "random_forest_reg = RandomForestRegressor(random_state=0)\n",
    "model=RandomForestRegressor()\n",
    "model.fit(X.values, y.values)\n"
   ]
  },
  {
   "cell_type": "code",
   "execution_count": 51,
   "id": "c3e1335c",
   "metadata": {},
   "outputs": [
    {
     "name": "stderr",
     "output_type": "stream",
     "text": [
      "C:\\Users\\Abdel\\anaconda3\\lib\\site-packages\\sklearn\\base.py:443: UserWarning: X has feature names, but RandomForestRegressor was fitted without feature names\n",
      "  warnings.warn(\n"
     ]
    }
   ],
   "source": [
    "y_pred = model.predict(X)"
   ]
  },
  {
   "cell_type": "code",
   "execution_count": 52,
   "id": "f6ab569a",
   "metadata": {},
   "outputs": [
    {
     "name": "stdout",
     "output_type": "stream",
     "text": [
      "0.10427140068110702\n"
     ]
    }
   ],
   "source": [
    "error = np.sqrt(mean_squared_error(y, y_pred))\n",
    "print(error)"
   ]
  },
  {
   "cell_type": "code",
   "execution_count": 53,
   "id": "09d3e416",
   "metadata": {},
   "outputs": [
    {
     "name": "stderr",
     "output_type": "stream",
     "text": [
      "C:\\Users\\Abdel\\anaconda3\\lib\\site-packages\\sklearn\\base.py:443: UserWarning: X has feature names, but RandomForestRegressor was fitted without feature names\n",
      "  warnings.warn(\n"
     ]
    },
    {
     "data": {
      "text/plain": [
       "0.7310029379928737"
      ]
     },
     "execution_count": 53,
     "metadata": {},
     "output_type": "execute_result"
    }
   ],
   "source": [
    "score=model.score(X,y_predict)\n",
    "score"
   ]
  },
  {
   "cell_type": "code",
   "execution_count": 54,
   "id": "643993e8",
   "metadata": {},
   "outputs": [
    {
     "data": {
      "text/plain": [
       "array([0.3732])"
      ]
     },
     "execution_count": 54,
     "metadata": {},
     "output_type": "execute_result"
    }
   ],
   "source": [
    "x=np.array([[20,20,30,200]])\n",
    "y_predict=model.predict(x)\n",
    "y_predict"
   ]
  },
  {
   "cell_type": "code",
   "execution_count": 55,
   "id": "8ed75a28",
   "metadata": {},
   "outputs": [],
   "source": [
    "data = {\"model\": model, \"error\": error , \"score\": score}\n",
    "with open('finalized_model_temara.pkl', 'wb') as file:\n",
    "    pickle.dump(data, file)"
   ]
  },
  {
   "cell_type": "code",
   "execution_count": 56,
   "id": "f8393cda",
   "metadata": {},
   "outputs": [
    {
     "data": {
      "text/plain": [
       "array([0.3732])"
      ]
     },
     "execution_count": 56,
     "metadata": {},
     "output_type": "execute_result"
    }
   ],
   "source": [
    "with open('finalized_model_ouarzazate.pkl', 'rb') as file:\n",
    "    data = pickle.load(file)\n",
    "rp=model\n",
    "y_pred = rp.predict(x)\n",
    "y_pred"
   ]
  },
  {
   "cell_type": "code",
   "execution_count": null,
   "id": "e4d89544",
   "metadata": {},
   "outputs": [],
   "source": []
  }
 ],
 "metadata": {
  "kernelspec": {
   "display_name": "ml",
   "language": "python",
   "name": "ml"
  },
  "language_info": {
   "codemirror_mode": {
    "name": "ipython",
    "version": 3
   },
   "file_extension": ".py",
   "mimetype": "text/x-python",
   "name": "python",
   "nbconvert_exporter": "python",
   "pygments_lexer": "ipython3",
   "version": "3.9.12"
  }
 },
 "nbformat": 4,
 "nbformat_minor": 5
}
