{
 "cells": [
  {
   "cell_type": "code",
   "execution_count": 244,
   "id": "f75ab67b",
   "metadata": {},
   "outputs": [],
   "source": [
    "import pandas as pd\n",
    "import numpy as np\n",
    "import matplotlib.pyplot as plt\n",
    "import seaborn as sns\n",
    "from sklearn.tree import DecisionTreeRegressor\n",
    "from sklearn.metrics import mean_squared_error, mean_absolute_error\n",
    "from sklearn.ensemble import RandomForestRegressor\n",
    "import pickle"
   ]
  },
  {
   "cell_type": "code",
   "execution_count": 245,
   "id": "e1c715d9",
   "metadata": {},
   "outputs": [],
   "source": [
    "df=pd.read_excel(\"DATA-OUARZAZATE.xlsx\")"
   ]
  },
  {
   "cell_type": "code",
   "execution_count": 246,
   "id": "b606af4a",
   "metadata": {},
   "outputs": [
    {
     "name": "stdout",
     "output_type": "stream",
     "text": [
      "<class 'pandas.core.frame.DataFrame'>\n",
      "RangeIndex: 5 entries, 0 to 4\n",
      "Data columns (total 6 columns):\n",
      " #   Column                     Non-Null Count  Dtype  \n",
      "---  ------                     --------------  -----  \n",
      " 0   Column1                    5 non-null      object \n",
      " 1   T_Air_C_Avg                5 non-null      float64\n",
      " 2   RH_Avg                     5 non-null      float64\n",
      " 3   V_Vent_m_s_Avg             5 non-null      float64\n",
      " 4   Ray_Tot_KWh_m2_Tot cumulé  5 non-null      float64\n",
      " 5   Perte_réflectance          5 non-null      float64\n",
      "dtypes: float64(5), object(1)\n",
      "memory usage: 368.0+ bytes\n"
     ]
    }
   ],
   "source": [
    "\n",
    "df.info()"
   ]
  },
  {
   "cell_type": "code",
   "execution_count": 247,
   "id": "8f1b0e01",
   "metadata": {},
   "outputs": [
    {
     "data": {
      "text/html": [
       "<div>\n",
       "<style scoped>\n",
       "    .dataframe tbody tr th:only-of-type {\n",
       "        vertical-align: middle;\n",
       "    }\n",
       "\n",
       "    .dataframe tbody tr th {\n",
       "        vertical-align: top;\n",
       "    }\n",
       "\n",
       "    .dataframe thead th {\n",
       "        text-align: right;\n",
       "    }\n",
       "</style>\n",
       "<table border=\"1\" class=\"dataframe\">\n",
       "  <thead>\n",
       "    <tr style=\"text-align: right;\">\n",
       "      <th></th>\n",
       "      <th>Column1</th>\n",
       "      <th>T_Air_C_Avg</th>\n",
       "      <th>RH_Avg</th>\n",
       "      <th>V_Vent_m_s_Avg</th>\n",
       "      <th>Ray_Tot_KWh_m2_Tot cumulé</th>\n",
       "      <th>Perte_réflectance</th>\n",
       "    </tr>\n",
       "  </thead>\n",
       "  <tbody>\n",
       "    <tr>\n",
       "      <th>0</th>\n",
       "      <td>T1</td>\n",
       "      <td>15.304166</td>\n",
       "      <td>20.666404</td>\n",
       "      <td>2.675039</td>\n",
       "      <td>368.790973</td>\n",
       "      <td>0.43</td>\n",
       "    </tr>\n",
       "    <tr>\n",
       "      <th>1</th>\n",
       "      <td>T2</td>\n",
       "      <td>22.252890</td>\n",
       "      <td>26.056763</td>\n",
       "      <td>3.352306</td>\n",
       "      <td>79.464000</td>\n",
       "      <td>2.15</td>\n",
       "    </tr>\n",
       "    <tr>\n",
       "      <th>2</th>\n",
       "      <td>T3</td>\n",
       "      <td>24.752091</td>\n",
       "      <td>21.874246</td>\n",
       "      <td>3.039579</td>\n",
       "      <td>615.380000</td>\n",
       "      <td>0.31</td>\n",
       "    </tr>\n",
       "    <tr>\n",
       "      <th>3</th>\n",
       "      <td>T4</td>\n",
       "      <td>16.943558</td>\n",
       "      <td>20.983569</td>\n",
       "      <td>3.333030</td>\n",
       "      <td>107.061000</td>\n",
       "      <td>0.38</td>\n",
       "    </tr>\n",
       "    <tr>\n",
       "      <th>4</th>\n",
       "      <td>T5</td>\n",
       "      <td>33.502494</td>\n",
       "      <td>10.726741</td>\n",
       "      <td>4.052095</td>\n",
       "      <td>326.985000</td>\n",
       "      <td>0.62</td>\n",
       "    </tr>\n",
       "  </tbody>\n",
       "</table>\n",
       "</div>"
      ],
      "text/plain": [
       "  Column1  T_Air_C_Avg     RH_Avg  V_Vent_m_s_Avg  Ray_Tot_KWh_m2_Tot cumulé  \\\n",
       "0      T1    15.304166  20.666404        2.675039                 368.790973   \n",
       "1      T2    22.252890  26.056763        3.352306                  79.464000   \n",
       "2      T3    24.752091  21.874246        3.039579                 615.380000   \n",
       "3      T4    16.943558  20.983569        3.333030                 107.061000   \n",
       "4      T5    33.502494  10.726741        4.052095                 326.985000   \n",
       "\n",
       "   Perte_réflectance  \n",
       "0               0.43  \n",
       "1               2.15  \n",
       "2               0.31  \n",
       "3               0.38  \n",
       "4               0.62  "
      ]
     },
     "execution_count": 247,
     "metadata": {},
     "output_type": "execute_result"
    }
   ],
   "source": [
    "df.head()"
   ]
  },
  {
   "cell_type": "code",
   "execution_count": 248,
   "id": "8c767104",
   "metadata": {},
   "outputs": [
    {
     "data": {
      "text/html": [
       "<div>\n",
       "<style scoped>\n",
       "    .dataframe tbody tr th:only-of-type {\n",
       "        vertical-align: middle;\n",
       "    }\n",
       "\n",
       "    .dataframe tbody tr th {\n",
       "        vertical-align: top;\n",
       "    }\n",
       "\n",
       "    .dataframe thead th {\n",
       "        text-align: right;\n",
       "    }\n",
       "</style>\n",
       "<table border=\"1\" class=\"dataframe\">\n",
       "  <thead>\n",
       "    <tr style=\"text-align: right;\">\n",
       "      <th></th>\n",
       "      <th>T_Air_C_Avg</th>\n",
       "      <th>RH_Avg</th>\n",
       "      <th>V_Vent_m_s_Avg</th>\n",
       "      <th>Ray_Tot_KWh_m2_Tot cumulé</th>\n",
       "      <th>Perte_réflectance</th>\n",
       "    </tr>\n",
       "  </thead>\n",
       "  <tbody>\n",
       "    <tr>\n",
       "      <th>0</th>\n",
       "      <td>15.304166</td>\n",
       "      <td>20.666404</td>\n",
       "      <td>2.675039</td>\n",
       "      <td>368.790973</td>\n",
       "      <td>0.43</td>\n",
       "    </tr>\n",
       "    <tr>\n",
       "      <th>1</th>\n",
       "      <td>22.252890</td>\n",
       "      <td>26.056763</td>\n",
       "      <td>3.352306</td>\n",
       "      <td>79.464000</td>\n",
       "      <td>2.15</td>\n",
       "    </tr>\n",
       "    <tr>\n",
       "      <th>2</th>\n",
       "      <td>24.752091</td>\n",
       "      <td>21.874246</td>\n",
       "      <td>3.039579</td>\n",
       "      <td>615.380000</td>\n",
       "      <td>0.31</td>\n",
       "    </tr>\n",
       "    <tr>\n",
       "      <th>3</th>\n",
       "      <td>16.943558</td>\n",
       "      <td>20.983569</td>\n",
       "      <td>3.333030</td>\n",
       "      <td>107.061000</td>\n",
       "      <td>0.38</td>\n",
       "    </tr>\n",
       "    <tr>\n",
       "      <th>4</th>\n",
       "      <td>33.502494</td>\n",
       "      <td>10.726741</td>\n",
       "      <td>4.052095</td>\n",
       "      <td>326.985000</td>\n",
       "      <td>0.62</td>\n",
       "    </tr>\n",
       "  </tbody>\n",
       "</table>\n",
       "</div>"
      ],
      "text/plain": [
       "   T_Air_C_Avg     RH_Avg  V_Vent_m_s_Avg  Ray_Tot_KWh_m2_Tot cumulé  \\\n",
       "0    15.304166  20.666404        2.675039                 368.790973   \n",
       "1    22.252890  26.056763        3.352306                  79.464000   \n",
       "2    24.752091  21.874246        3.039579                 615.380000   \n",
       "3    16.943558  20.983569        3.333030                 107.061000   \n",
       "4    33.502494  10.726741        4.052095                 326.985000   \n",
       "\n",
       "   Perte_réflectance  \n",
       "0               0.43  \n",
       "1               2.15  \n",
       "2               0.31  \n",
       "3               0.38  \n",
       "4               0.62  "
      ]
     },
     "execution_count": 248,
     "metadata": {},
     "output_type": "execute_result"
    }
   ],
   "source": [
    "df=df[[\"T_Air_C_Avg\", \"RH_Avg\",\"V_Vent_m_s_Avg\", \"Ray_Tot_KWh_m2_Tot cumulé\", \"Perte_réflectance\"]]\n",
    "df.head()"
   ]
  },
  {
   "cell_type": "code",
   "execution_count": 249,
   "id": "cb3e4431",
   "metadata": {},
   "outputs": [
    {
     "data": {
      "text/html": [
       "<div>\n",
       "<style scoped>\n",
       "    .dataframe tbody tr th:only-of-type {\n",
       "        vertical-align: middle;\n",
       "    }\n",
       "\n",
       "    .dataframe tbody tr th {\n",
       "        vertical-align: top;\n",
       "    }\n",
       "\n",
       "    .dataframe thead th {\n",
       "        text-align: right;\n",
       "    }\n",
       "</style>\n",
       "<table border=\"1\" class=\"dataframe\">\n",
       "  <thead>\n",
       "    <tr style=\"text-align: right;\">\n",
       "      <th></th>\n",
       "      <th>count</th>\n",
       "      <th>mean</th>\n",
       "      <th>std</th>\n",
       "      <th>min</th>\n",
       "      <th>25%</th>\n",
       "      <th>50%</th>\n",
       "      <th>75%</th>\n",
       "      <th>max</th>\n",
       "    </tr>\n",
       "  </thead>\n",
       "  <tbody>\n",
       "    <tr>\n",
       "      <th>T_Air_C_Avg</th>\n",
       "      <td>5.0</td>\n",
       "      <td>22.551040</td>\n",
       "      <td>7.225457</td>\n",
       "      <td>15.304166</td>\n",
       "      <td>16.943558</td>\n",
       "      <td>22.252890</td>\n",
       "      <td>24.752091</td>\n",
       "      <td>33.502494</td>\n",
       "    </tr>\n",
       "    <tr>\n",
       "      <th>RH_Avg</th>\n",
       "      <td>5.0</td>\n",
       "      <td>20.061545</td>\n",
       "      <td>5.647634</td>\n",
       "      <td>10.726741</td>\n",
       "      <td>20.666404</td>\n",
       "      <td>20.983569</td>\n",
       "      <td>21.874246</td>\n",
       "      <td>26.056763</td>\n",
       "    </tr>\n",
       "    <tr>\n",
       "      <th>V_Vent_m_s_Avg</th>\n",
       "      <td>5.0</td>\n",
       "      <td>3.290410</td>\n",
       "      <td>0.506806</td>\n",
       "      <td>2.675039</td>\n",
       "      <td>3.039579</td>\n",
       "      <td>3.333030</td>\n",
       "      <td>3.352306</td>\n",
       "      <td>4.052095</td>\n",
       "    </tr>\n",
       "    <tr>\n",
       "      <th>Ray_Tot_KWh_m2_Tot cumulé</th>\n",
       "      <td>5.0</td>\n",
       "      <td>299.536195</td>\n",
       "      <td>218.394964</td>\n",
       "      <td>79.464000</td>\n",
       "      <td>107.061000</td>\n",
       "      <td>326.985000</td>\n",
       "      <td>368.790973</td>\n",
       "      <td>615.380000</td>\n",
       "    </tr>\n",
       "    <tr>\n",
       "      <th>Perte_réflectance</th>\n",
       "      <td>5.0</td>\n",
       "      <td>0.778000</td>\n",
       "      <td>0.775545</td>\n",
       "      <td>0.310000</td>\n",
       "      <td>0.380000</td>\n",
       "      <td>0.430000</td>\n",
       "      <td>0.620000</td>\n",
       "      <td>2.150000</td>\n",
       "    </tr>\n",
       "  </tbody>\n",
       "</table>\n",
       "</div>"
      ],
      "text/plain": [
       "                           count        mean         std        min  \\\n",
       "T_Air_C_Avg                  5.0   22.551040    7.225457  15.304166   \n",
       "RH_Avg                       5.0   20.061545    5.647634  10.726741   \n",
       "V_Vent_m_s_Avg               5.0    3.290410    0.506806   2.675039   \n",
       "Ray_Tot_KWh_m2_Tot cumulé    5.0  299.536195  218.394964  79.464000   \n",
       "Perte_réflectance            5.0    0.778000    0.775545   0.310000   \n",
       "\n",
       "                                  25%         50%         75%         max  \n",
       "T_Air_C_Avg                 16.943558   22.252890   24.752091   33.502494  \n",
       "RH_Avg                      20.666404   20.983569   21.874246   26.056763  \n",
       "V_Vent_m_s_Avg               3.039579    3.333030    3.352306    4.052095  \n",
       "Ray_Tot_KWh_m2_Tot cumulé  107.061000  326.985000  368.790973  615.380000  \n",
       "Perte_réflectance            0.380000    0.430000    0.620000    2.150000  "
      ]
     },
     "execution_count": 249,
     "metadata": {},
     "output_type": "execute_result"
    }
   ],
   "source": [
    "df.describe().transpose()\n"
   ]
  },
  {
   "cell_type": "code",
   "execution_count": 250,
   "id": "c6401423",
   "metadata": {},
   "outputs": [
    {
     "data": {
      "image/png": "[encoded data removed]",
      "text/plain": [
       "<Figure size 360x360 with 1 Axes>"
      ]
     },
     "metadata": {
      "needs_background": "light"
     },
     "output_type": "display_data"
    },
    {
     "data": {
      "image/png": "[encoded data removed]",
      "text/plain": [
       "<Figure size 360x360 with 1 Axes>"
      ]
     },
     "metadata": {
      "needs_background": "light"
     },
     "output_type": "display_data"
    },
    {
     "data": {
      "image/png": "[encoded data removed]",
      "text/plain": [
       "<Figure size 360x360 with 1 Axes>"
      ]
     },
     "metadata": {
      "needs_background": "light"
     },
     "output_type": "display_data"
    },
    {
     "data": {
      "image/png": "[encoded data removed]",
      "text/plain": [
       "<Figure size 360x360 with 1 Axes>"
      ]
     },
     "metadata": {
      "needs_background": "light"
     },
     "output_type": "display_data"
    },
    {
     "data": {
      "image/png": "[encoded data removed]",
      "text/plain": [
       "<Figure size 360x360 with 1 Axes>"
      ]
     },
     "metadata": {
      "needs_background": "light"
     },
     "output_type": "display_data"
    }
   ],
   "source": [
    "\n",
    "for i in list(df.columns):\n",
    "    sns.lmplot(y=i, x='Perte_réflectance', data=df)"
   ]
  },
  {
   "cell_type": "code",
   "execution_count": 251,
   "id": "99fac86b",
   "metadata": {},
   "outputs": [],
   "source": [
    "X= df.drop(\"Perte_réflectance\", axis=1)\n",
    "y = df[\"Perte_réflectance\"]\n"
   ]
  },
  {
   "cell_type": "code",
   "execution_count": 252,
   "id": "58a49e8e",
   "metadata": {},
   "outputs": [
    {
     "data": {
      "text/html": [
       "<div>\n",
       "<style scoped>\n",
       "    .dataframe tbody tr th:only-of-type {\n",
       "        vertical-align: middle;\n",
       "    }\n",
       "\n",
       "    .dataframe tbody tr th {\n",
       "        vertical-align: top;\n",
       "    }\n",
       "\n",
       "    .dataframe thead th {\n",
       "        text-align: right;\n",
       "    }\n",
       "</style>\n",
       "<table border=\"1\" class=\"dataframe\">\n",
       "  <thead>\n",
       "    <tr style=\"text-align: right;\">\n",
       "      <th></th>\n",
       "      <th>T_Air_C_Avg</th>\n",
       "      <th>RH_Avg</th>\n",
       "      <th>V_Vent_m_s_Avg</th>\n",
       "      <th>Ray_Tot_KWh_m2_Tot cumulé</th>\n",
       "    </tr>\n",
       "  </thead>\n",
       "  <tbody>\n",
       "    <tr>\n",
       "      <th>0</th>\n",
       "      <td>15.304166</td>\n",
       "      <td>20.666404</td>\n",
       "      <td>2.675039</td>\n",
       "      <td>368.790973</td>\n",
       "    </tr>\n",
       "    <tr>\n",
       "      <th>1</th>\n",
       "      <td>22.252890</td>\n",
       "      <td>26.056763</td>\n",
       "      <td>3.352306</td>\n",
       "      <td>79.464000</td>\n",
       "    </tr>\n",
       "    <tr>\n",
       "      <th>2</th>\n",
       "      <td>24.752091</td>\n",
       "      <td>21.874246</td>\n",
       "      <td>3.039579</td>\n",
       "      <td>615.380000</td>\n",
       "    </tr>\n",
       "    <tr>\n",
       "      <th>3</th>\n",
       "      <td>16.943558</td>\n",
       "      <td>20.983569</td>\n",
       "      <td>3.333030</td>\n",
       "      <td>107.061000</td>\n",
       "    </tr>\n",
       "    <tr>\n",
       "      <th>4</th>\n",
       "      <td>33.502494</td>\n",
       "      <td>10.726741</td>\n",
       "      <td>4.052095</td>\n",
       "      <td>326.985000</td>\n",
       "    </tr>\n",
       "  </tbody>\n",
       "</table>\n",
       "</div>"
      ],
      "text/plain": [
       "   T_Air_C_Avg     RH_Avg  V_Vent_m_s_Avg  Ray_Tot_KWh_m2_Tot cumulé\n",
       "0    15.304166  20.666404        2.675039                 368.790973\n",
       "1    22.252890  26.056763        3.352306                  79.464000\n",
       "2    24.752091  21.874246        3.039579                 615.380000\n",
       "3    16.943558  20.983569        3.333030                 107.061000\n",
       "4    33.502494  10.726741        4.052095                 326.985000"
      ]
     },
     "execution_count": 252,
     "metadata": {},
     "output_type": "execute_result"
    }
   ],
   "source": [
    "X"
   ]
  },
  {
   "cell_type": "code",
   "execution_count": 253,
   "id": "4a383c1d",
   "metadata": {},
   "outputs": [
    {
     "data": {
      "text/plain": [
       "LinearRegression()"
      ]
     },
     "execution_count": 253,
     "metadata": {},
     "output_type": "execute_result"
    }
   ],
   "source": [
    "from sklearn.linear_model import LinearRegression\n",
    "linear_reg = LinearRegression()\n",
    "linear_reg.fit(X, y.values)"
   ]
  },
  {
   "cell_type": "code",
   "execution_count": 254,
   "id": "98d2e3dd",
   "metadata": {},
   "outputs": [],
   "source": [
    "y_predict=linear_reg.predict(X)"
   ]
  },
  {
   "cell_type": "code",
   "execution_count": 255,
   "id": "6c41a8f9",
   "metadata": {},
   "outputs": [],
   "source": [
    "erreur  = np.sqrt(mean_squared_error(y, y_predict))"
   ]
  },
  {
   "cell_type": "code",
   "execution_count": 256,
   "id": "5b932f94",
   "metadata": {},
   "outputs": [
    {
     "data": {
      "text/plain": [
       "3.219455347959566e-15"
      ]
     },
     "execution_count": 256,
     "metadata": {},
     "output_type": "execute_result"
    }
   ],
   "source": [
    "erreur"
   ]
  },
  {
   "cell_type": "markdown",
   "id": "dc088b67",
   "metadata": {},
   "source": [
    "# model de Random Forest \n"
   ]
  },
  {
   "cell_type": "code",
   "execution_count": 257,
   "id": "f05a66ca",
   "metadata": {},
   "outputs": [
    {
     "data": {
      "text/plain": [
       "RandomForestRegressor()"
      ]
     },
     "execution_count": 257,
     "metadata": {},
     "output_type": "execute_result"
    }
   ],
   "source": [
    "\n",
    "random_forest_reg = RandomForestRegressor(random_state=0)\n",
    "model=RandomForestRegressor()\n",
    "model.fit(X.values, y.values)\n"
   ]
  },
  {
   "cell_type": "code",
   "execution_count": 258,
   "id": "782a6879",
   "metadata": {},
   "outputs": [
    {
     "name": "stderr",
     "output_type": "stream",
     "text": [
      "C:\\Users\\Abdel\\anaconda3\\lib\\site-packages\\sklearn\\base.py:443: UserWarning: X has feature names, but RandomForestRegressor was fitted without feature names\n",
      "  warnings.warn(\n"
     ]
    }
   ],
   "source": [
    "y_pred = model.predict(X)"
   ]
  },
  {
   "cell_type": "code",
   "execution_count": 259,
   "id": "d8b911c5",
   "metadata": {},
   "outputs": [
    {
     "name": "stdout",
     "output_type": "stream",
     "text": [
      "0.299741898973099\n"
     ]
    }
   ],
   "source": [
    "error = np.sqrt(mean_squared_error(y, y_pred))\n",
    "print(error)"
   ]
  },
  {
   "cell_type": "code",
   "execution_count": 260,
   "id": "e4d8ae68",
   "metadata": {},
   "outputs": [
    {
     "name": "stderr",
     "output_type": "stream",
     "text": [
      "C:\\Users\\Abdel\\anaconda3\\lib\\site-packages\\sklearn\\base.py:443: UserWarning: X has feature names, but RandomForestRegressor was fitted without feature names\n",
      "  warnings.warn(\n"
     ]
    },
    {
     "data": {
      "text/plain": [
       "0.8132799516185363"
      ]
     },
     "execution_count": 260,
     "metadata": {},
     "output_type": "execute_result"
    }
   ],
   "source": [
    "score=model.score(X,y_predict)\n",
    "score"
   ]
  },
  {
   "cell_type": "code",
   "execution_count": null,
   "id": "8f14c602",
   "metadata": {},
   "outputs": [],
   "source": [
    "\n"
   ]
  },
  {
   "cell_type": "code",
   "execution_count": 261,
   "id": "67a7b37a",
   "metadata": {},
   "outputs": [
    {
     "data": {
      "text/plain": [
       "array([0.6701])"
      ]
     },
     "execution_count": 261,
     "metadata": {},
     "output_type": "execute_result"
    }
   ],
   "source": [
    "x=np.array([[20,20,30,200]])\n",
    "y_predict=model.predict(x)\n",
    "y_predict"
   ]
  },
  {
   "cell_type": "markdown",
   "id": "ebfcd828",
   "metadata": {},
   "source": [
    "# saving model"
   ]
  },
  {
   "cell_type": "code",
   "execution_count": 264,
   "id": "3b42e796",
   "metadata": {},
   "outputs": [],
   "source": [
    "data = {\"model\": model, \"error\": error , \"score\": score}\n",
    "with open('finalized_model_ouarzazate.pkl', 'wb') as file:\n",
    "    pickle.dump(data, file)"
   ]
  },
  {
   "cell_type": "code",
   "execution_count": 265,
   "id": "b72a5c60",
   "metadata": {},
   "outputs": [
    {
     "data": {
      "text/plain": [
       "array([0.6701])"
      ]
     },
     "execution_count": 265,
     "metadata": {},
     "output_type": "execute_result"
    }
   ],
   "source": [
    "with open('finalized_model_ouarzazate.pkl', 'rb') as file:\n",
    "    data = pickle.load(file)\n",
    "rp=model\n",
    "y_pred = rp.predict(x)\n",
    "y_pred"
   ]
  },
  {
   "cell_type": "code",
   "execution_count": null,
   "id": "e7212ce6",
   "metadata": {},
   "outputs": [],
   "source": []
  },
  {
   "cell_type": "code",
   "execution_count": null,
   "id": "9a265f3b",
   "metadata": {},
   "outputs": [],
   "source": []
  },
  {
   "cell_type": "code",
   "execution_count": null,
   "id": "ae24d077",
   "metadata": {},
   "outputs": [],
   "source": []
  },
  {
   "cell_type": "code",
   "execution_count": null,
   "id": "f238cdf6",
   "metadata": {},
   "outputs": [],
   "source": []
  },
  {
   "cell_type": "code",
   "execution_count": null,
   "id": "5c1489f8",
   "metadata": {},
   "outputs": [],
   "source": []
  },
  {
   "cell_type": "code",
   "execution_count": null,
   "id": "d238974e",
   "metadata": {},
   "outputs": [],
   "source": []
  },
  {
   "cell_type": "code",
   "execution_count": null,
   "id": "e4a5c714",
   "metadata": {},
   "outputs": [],
   "source": []
  }
 ],
 "metadata": {
  "kernelspec": {
   "display_name": "ml",
   "language": "python",
   "name": "ml"
  },
  "language_info": {
   "codemirror_mode": {
    "name": "ipython",
    "version": 3
   },
   "file_extension": ".py",
   "mimetype": "text/x-python",
   "name": "python",
   "nbconvert_exporter": "python",
   "pygments_lexer": "ipython3",
   "version": "3.9.12"
  }
 },
 "nbformat": 4,
 "nbformat_minor": 5
}
